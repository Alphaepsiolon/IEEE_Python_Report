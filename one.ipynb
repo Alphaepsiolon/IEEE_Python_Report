{
 "cells": [
  {
   "cell_type": "code",
   "execution_count": 1,
   "metadata": {},
   "outputs": [
    {
     "name": "stdout",
     "output_type": "stream",
     "text": [
      "[1, 2, 3, 4, 5, 6, 7, 8, 9]\n",
      "[1, 2, 3, 4, 5, 6]\n"
     ]
    }
   ],
   "source": [
    "class stack:\n",
    "    def __init__(self):\n",
    "        self.arr = []\n",
    "     \n",
    "    def push(self,item):\n",
    "        self.arr.append(item)\n",
    "\n",
    "    def pop_arr(self):\n",
    "        self.arr.pop()\n",
    "\n",
    "    def disp(self):\n",
    "        print self.arr\n",
    "  \n",
    "\n",
    "obj = stack()\n",
    "for i in range(9):\n",
    "    obj.push(i+1)\n",
    "obj.disp()\n",
    "for i in range(3):\n",
    "    obj.pop_arr()\n",
    "obj.disp()\n"
   ]
  },
  {
   "cell_type": "code",
   "execution_count": null,
   "metadata": {},
   "outputs": [],
   "source": []
  }
 ],
 "metadata": {
  "kernelspec": {
   "display_name": "Python 2",
   "language": "python",
   "name": "python2"
  },
  "language_info": {
   "codemirror_mode": {
    "name": "ipython",
    "version": 2
   },
   "file_extension": ".py",
   "mimetype": "text/x-python",
   "name": "python",
   "nbconvert_exporter": "python",
   "pygments_lexer": "ipython2",
   "version": "2.7.12"
  }
 },
 "nbformat": 4,
 "nbformat_minor": 2
}
