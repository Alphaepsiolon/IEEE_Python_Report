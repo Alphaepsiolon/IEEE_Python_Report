{
 "cells": [
  {
   "cell_type": "code",
   "execution_count": 1,
   "metadata": {},
   "outputs": [
    {
     "name": "stdout",
     "output_type": "stream",
     "text": [
      "Please enter the elements of the queue, each seperated by a space.\n",
      "1 2 3 4 5 6\n",
      "Enter the number of elements you want to invert: 2\n",
      "Modified array(using queue operations): ['2', '1', '3', '4', '5', '6'] \n",
      "Modified array(using stack operations): ['2', '1', '3', '4', '5', '6'] \n"
     ]
    }
   ],
   "source": [
    "class queue:\n",
    "    def __init__(self):\n",
    "        self.arr = []\n",
    "    def enqueue(self,item):\n",
    "        self.arr.insert(0,item)\n",
    "    def dequeue(self):\n",
    "        return self.arr.pop()\n",
    "    def disp(self):\n",
    "        print self.arr\n",
    "        \n",
    "class stack:\n",
    "    def __init__(self):\n",
    "        self.arr = []\n",
    "    def push(self,item):\n",
    "        self.arr.append(item)\n",
    "    def pop(self):\n",
    "        self.arr.pop()\n",
    "    def disp(self):\n",
    "        print self.arr\n",
    "        \n",
    "        \n",
    "def invert_q(lst,k):\n",
    "    obj_q = queue()\n",
    "    temp = []\n",
    "    for e in lst:\n",
    "        obj_q.enqueue(e)\n",
    "\n",
    "    for i in range(k):\n",
    "        num = obj_q.dequeue()\n",
    "        temp.append(num)\n",
    "\n",
    "    obj_q.arr.reverse()\n",
    "    \n",
    "    for x in temp:\n",
    "        obj_q.enqueue(x)\n",
    "    \n",
    "    print \"Modified array(using queue operations): %s \" %obj_q.arr\n",
    "    \n",
    "def invert_s(lst,k):\n",
    "    obj_s = stack()\n",
    "    for e in lst:\n",
    "        obj_s.push(e)\n",
    "    for i in range(len(obj_s.arr) - k):\n",
    "        obj_s.pop()\n",
    "\n",
    "    obj_s.arr.reverse()\n",
    "    \n",
    "    for x in range(k,len(lst)):\n",
    "        obj_s.push(lst[x])\n",
    "    \n",
    "    print \"Modified array(using stack operations): %s \" %obj_s.arr\n",
    "\n",
    "\n",
    "user_input = raw_input(\"Please enter the elements of the queue, each seperated by a space.\\n\")\n",
    "elem = user_input.split(' ')\n",
    "inv_upto = input(\"Enter the number of elements you want to invert: \")\n",
    "invert_q(elem,inv_upto)\n",
    "invert_s(elem,inv_upto)"
   ]
  },
  {
   "cell_type": "code",
   "execution_count": null,
   "metadata": {},
   "outputs": [],
   "source": []
  }
 ],
 "metadata": {
  "kernelspec": {
   "display_name": "Python 2",
   "language": "python",
   "name": "python2"
  },
  "language_info": {
   "codemirror_mode": {
    "name": "ipython",
    "version": 2
   },
   "file_extension": ".py",
   "mimetype": "text/x-python",
   "name": "python",
   "nbconvert_exporter": "python",
   "pygments_lexer": "ipython2",
   "version": "2.7.12"
  }
 },
 "nbformat": 4,
 "nbformat_minor": 2
}
