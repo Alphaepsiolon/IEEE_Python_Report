{
 "cells": [
  {
   "cell_type": "code",
   "execution_count": 2,
   "metadata": {},
   "outputs": [
    {
     "name": "stdout",
     "output_type": "stream",
     "text": [
      "[9, 8, 7, 6, 5, 4, 3, 2, 1]\n",
      "[9, 8, 7, 6, 5, 4]\n"
     ]
    }
   ],
   "source": [
    "class queue:\n",
    "    def __init__(self):\n",
    "        self.arr = []\n",
    "\n",
    "    def enqueue(self,item):\n",
    "        self.arr.insert(0,item)\n",
    "\n",
    "    def dequeue(self):\n",
    "        #self.arr.reverse()\n",
    "        self.arr.pop()\n",
    "        #self.arr.reverse()\n",
    "\n",
    "    def disp(self):\n",
    "        print self.arr\n",
    "\n",
    "obj = queue()\n",
    "for i in range(9):\n",
    "    obj.enqueue(i+1);\n",
    "obj.disp()\n",
    "\n",
    "for i in range(3):\n",
    "    obj.dequeue()\n",
    "obj.disp()\n"
   ]
  },
  {
   "cell_type": "code",
   "execution_count": null,
   "metadata": {},
   "outputs": [],
   "source": []
  }
 ],
 "metadata": {
  "kernelspec": {
   "display_name": "Python 2",
   "language": "python",
   "name": "python2"
  },
  "language_info": {
   "codemirror_mode": {
    "name": "ipython",
    "version": 2
   },
   "file_extension": ".py",
   "mimetype": "text/x-python",
   "name": "python",
   "nbconvert_exporter": "python",
   "pygments_lexer": "ipython2",
   "version": "2.7.12"
  }
 },
 "nbformat": 4,
 "nbformat_minor": 2
}
